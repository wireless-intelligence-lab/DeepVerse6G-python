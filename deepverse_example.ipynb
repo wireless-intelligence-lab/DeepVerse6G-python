{
 "cells": [
  {
   "cell_type": "markdown",
   "metadata": {},
   "source": [
    "## Imports"
   ]
  },
  {
   "cell_type": "code",
   "execution_count": 1,
   "metadata": {},
   "outputs": [],
   "source": [
    "import os\n",
    "import sys\n",
    "\n",
    "import numpy as np\n",
    "\n",
    "sys.path.insert(0, './src')\n",
    "\n",
    "from deepverse import ParameterManager\n",
    "from deepverse.scenario import ScenarioManager\n",
    "from deepverse import Dataset \n",
    "\n",
    "from deepverse.visualizers import ImageVisualizer, LidarVisualizer"
   ]
  },
  {
   "cell_type": "markdown",
   "metadata": {},
   "source": [
    "## Parameter reading"
   ]
  },
  {
   "cell_type": "code",
   "execution_count": null,
   "metadata": {},
   "outputs": [],
   "source": [
    "# Path to the configuration file\n",
    "scenario_name = \"DT31\"\n",
    "config_path = f\"scenarios/{scenario_name}/param/config.m\"\n",
    "\n",
    "# Initialize ParameterManager and load parameters\n",
    "param_manager = ParameterManager(config_path)\n",
    "params = param_manager.get_params()\n",
    "\n",
    "# # Print the loaded parameters\n",
    "print(\"Loaded Parameters:\")\n",
    "print(params)"
   ]
  },
  {
   "cell_type": "markdown",
   "metadata": {},
   "source": [
    "## Generate a dataset"
   ]
  },
  {
   "cell_type": "code",
   "execution_count": null,
   "metadata": {},
   "outputs": [],
   "source": [
    "%%capture output\n",
    "# Generate a dataset\n",
    "dataset = Dataset(config_path)\n"
   ]
  },
  {
   "cell_type": "markdown",
   "metadata": {},
   "source": [
    "## Access samples"
   ]
  },
  {
   "cell_type": "markdown",
   "metadata": {},
   "source": [
    "### Access camera sample"
   ]
  },
  {
   "cell_type": "code",
   "execution_count": null,
   "metadata": {},
   "outputs": [],
   "source": [
    "camera_sample = dataset.get_sample('cam', index=0, device_index=\"unit1_cam1\")  # Get sample from camera 1\n",
    "print(camera_sample)"
   ]
  },
  {
   "cell_type": "markdown",
   "metadata": {},
   "source": [
    "### Access LiDAR sample"
   ]
  },
  {
   "cell_type": "code",
   "execution_count": null,
   "metadata": {},
   "outputs": [],
   "source": [
    "lidar_sample = dataset.get_sample('lidar', index=0, device_index=\"unit1_lidar1\")  # Get sample from LiDAR 1\n",
    "print(lidar_sample)"
   ]
  },
  {
   "cell_type": "markdown",
   "metadata": {},
   "source": [
    "### Access radar sample"
   ]
  },
  {
   "cell_type": "code",
   "execution_count": null,
   "metadata": {},
   "outputs": [],
   "source": [
    "radar_sample = dataset.get_sample('radar', index=0, bs_idx=0, ue_idx=0)\n",
    "print(radar_sample.coeffs.shape)\n",
    "# There is no UE, it is the bs_tx_idx=bs_idx and bs_rx_idx=ue_idx\n",
    "# Channel can be reached with:\n",
    "# radar_sample.coeffs\n",
    "# ------- Some print examples ----------\n",
    "# print(radar_sample)\n",
    "# print(radar_sample.paths)\n",
    "# print(radar_sample.waveform)\n",
    "# print(radar_sample.tx_antenna)\n",
    "# print(radar_sample.rx_antenna)"
   ]
  },
  {
   "cell_type": "markdown",
   "metadata": {},
   "source": [
    "### Access BS-UE channel sample"
   ]
  },
  {
   "cell_type": "code",
   "execution_count": null,
   "metadata": {},
   "outputs": [],
   "source": [
    "comm_sample = dataset.get_sample('comm-ue', index=0, bs_idx=0, ue_idx=0)\n",
    "print(comm_sample.coeffs.shape)\n",
    "# Channel can be reached with:\n",
    "# comm_sample.coeffs\n",
    "# ------- Some print examples ----------\n",
    "# print(comm_sample)\n",
    "# print(comm_sample.paths)\n",
    "# print(comm_sample.LoS_status)\n",
    "# print(comm_sample.tx_antenna)\n",
    "# print(comm_sample.rx_antenna)"
   ]
  },
  {
   "cell_type": "markdown",
   "metadata": {},
   "source": [
    "### Access BS-BS channel sample"
   ]
  },
  {
   "cell_type": "code",
   "execution_count": null,
   "metadata": {},
   "outputs": [],
   "source": [
    "comm_bs2bs_sample = dataset.get_sample('comm-bs', index=0, bs_idx=0, ue_idx=0)\n",
    "print(comm_bs2bs_sample.coeffs.shape)\n",
    "# Channel can be reached with:\n",
    "# comm_bs2bs_sample.coeffs\n",
    "# ------- Some print examples ----------\n",
    "# print(comm_bs2bs_sample)\n",
    "# print(comm_bs2bs_sample.paths)\n",
    "# print(comm_bs2bs_sample.LoS_status)\n",
    "# print(comm_bs2bs_sample.tx_antenna)\n",
    "# print(comm_bs2bs_sample.rx_antenna)"
   ]
  },
  {
   "cell_type": "markdown",
   "metadata": {},
   "source": [
    "### Access location and mobility sample"
   ]
  },
  {
   "cell_type": "code",
   "execution_count": null,
   "metadata": {},
   "outputs": [],
   "source": [
    "# Access bs location sample\n",
    "bs_location = dataset.get_sample('loc-bs', index=0, bs_idx=0)\n",
    "print(bs_location)\n",
    "\n",
    "# Access user location sample\n",
    "ue_location = dataset.get_sample('loc-ue', index=0, ue_idx=0)\n",
    "print(ue_location)\n",
    "\n",
    "# Access user mobility sample\n",
    "mobility = dataset.get_sample('mobility', index=0, object_id=0)\n",
    "print(mobility)"
   ]
  },
  {
   "cell_type": "markdown",
   "metadata": {},
   "source": [
    "## Visualization test"
   ]
  },
  {
   "cell_type": "code",
   "execution_count": null,
   "metadata": {},
   "outputs": [],
   "source": [
    "# Visualizing scenario\n",
    "# Set visualization backend for scenario and visualize samples\n",
    "dataset.scenario.visualizer.set_backend('pyvista')\n",
    "dataset.scenario.visualize()"
   ]
  },
  {
   "cell_type": "code",
   "execution_count": null,
   "metadata": {},
   "outputs": [],
   "source": [
    "# Visualizing camera data\n",
    "# Set visualization backend for camera and visualize samples\n",
    "# Supported backend in ImageVisualizer.supported_backends\n",
    "dataset.set_visualization_backend('cam', 'matplotlib')\n",
    "dataset.visualize('cam', 'unit1_cam1', 0)"
   ]
  },
  {
   "cell_type": "code",
   "execution_count": 14,
   "metadata": {},
   "outputs": [],
   "source": [
    "# Visualizing LiDAR data\n",
    "# Set visualization backend for lidar and visualize samples\n",
    "# Supported backend in LidarVisualizer.supported_backends\n",
    "dataset.set_visualization_backend('lidar', 'open3d')\n",
    "dataset.visualize('lidar', 'unit1_lidar1', 0)"
   ]
  },
  {
   "cell_type": "markdown",
   "metadata": {},
   "source": [
    "## Plot BS beam power and user position"
   ]
  },
  {
   "cell_type": "markdown",
   "metadata": {},
   "source": [
    "### Simple beam-steering codebook"
   ]
  },
  {
   "cell_type": "code",
   "execution_count": 15,
   "metadata": {},
   "outputs": [],
   "source": [
    "def beam_steering_codebook(angles, num_z, num_x):\n",
    "    d = 0.5\n",
    "    k_z = np.arange(num_z)\n",
    "    k_x = np.arange(num_x)\n",
    "    \n",
    "    codebook = []\n",
    "    \n",
    "    for beam_idx in range(angles.shape[0]):\n",
    "        z_angle = angles[beam_idx, 0]\n",
    "        x_angle = angles[beam_idx, 1]\n",
    "        bf_vector_z = np.exp(1j * 2 * np.pi * k_z * d * np.cos(np.radians(z_angle)))\n",
    "        bf_vector_x = np.exp(1j * 2 * np.pi * k_x * d * np.cos(np.radians(x_angle)))\n",
    "        bf_vector = np.outer(bf_vector_z, bf_vector_x).flatten()\n",
    "        codebook.append(bf_vector)\n",
    "    \n",
    "    return np.stack(codebook, axis=0)\n",
    "\n",
    "# Construct beam steering codebook\n",
    "num_angles = 64\n",
    "x_angles = np.linspace(0, 180, num_angles + 1)[1:]\n",
    "x_angles = np.flip(x_angles)\n",
    "z_angles = np.full(num_angles, 90)\n",
    "beam_angles = np.column_stack((z_angles, x_angles))\n",
    "codebook = beam_steering_codebook(beam_angles, 1, 16)"
   ]
  },
  {
   "cell_type": "markdown",
   "metadata": {},
   "source": [
    "### Apply beam-steering codebook to channels"
   ]
  },
  {
   "cell_type": "code",
   "execution_count": 16,
   "metadata": {},
   "outputs": [],
   "source": [
    "# Apply codebook to bs-ue comm channel\n",
    "beam_power = []\n",
    "ue_loc = []\n",
    "num_scene = len(dataset.params['scenes'])\n",
    "for i in range(num_scene):\n",
    "    channel = dataset.get_sample('comm-ue', index=i, bs_idx=0, ue_idx=0).coeffs\n",
    "    ue_loc_ = dataset.get_sample('loc-ue', index=i, bs_idx=0, ue_idx=0)\n",
    "    \n",
    "    beam_power_ = (np.abs(codebook @ np.squeeze(channel, 0))**2).sum(-1)\n",
    "    beam_power.append(beam_power_)\n",
    "\n",
    "    ue_loc.append(ue_loc_)\n",
    "\n",
    "bs_loc = dataset.get_sample('loc-bs', index=0, bs_idx=0)"
   ]
  },
  {
   "cell_type": "markdown",
   "metadata": {},
   "source": [
    "### Plot video"
   ]
  },
  {
   "cell_type": "code",
   "execution_count": null,
   "metadata": {},
   "outputs": [],
   "source": [
    "\n",
    "import matplotlib.pyplot as plt\n",
    "from matplotlib.animation import FuncAnimation\n",
    "\n",
    "# Create figure and axes\n",
    "fig, axes = plt.subplots(1, 2, figsize=(12, 4))\n",
    "\n",
    "# fig.subplots_adjust(hspace=0.5)\n",
    "\n",
    "# Initialize plots\n",
    "axes[0].scatter(bs_loc[0], bs_loc[1], color='b', label='BS')\n",
    "ue_scatter = axes[0].scatter([0], [0], color='g', label='UE')\n",
    "axes[0].set_xlim([-100, 100])\n",
    "axes[0].set_ylim([0, 120])\n",
    "axes[0].set_xlabel('x (m)')\n",
    "axes[0].set_ylabel('y (m)')\n",
    "axes[0].legend()\n",
    "axes[0].axis('equal')\n",
    "axes[0].grid(True)\n",
    "\n",
    "line, = axes[1].plot(range(1, num_angles + 1), 10 * np.log10(beam_power[0]))\n",
    "axes[1].set_xlim([1, num_angles])\n",
    "axes[1].set_ylim([-120, -80])\n",
    "axes[1].set_xlabel('Beam index')\n",
    "axes[1].set_ylabel('Beam power (dB)')\n",
    "axes[1].grid(True)\n",
    "\n",
    "fig.subplots_adjust(left=0.08, right=0.98, top=0.95, bottom=0.15)\n",
    "\n",
    "\n",
    "\n",
    "# Update function for animation\n",
    "def update(i):\n",
    "    ue_scatter.set_offsets([ue_loc[i][0], ue_loc[i][1]])  # Update UE location\n",
    "    line.set_data(range(1, num_angles + 1), 10 * np.log10(beam_power[i]))  # Update beam power\n",
    "    return ue_scatter, line\n",
    "\n",
    "# Create animation\n",
    "ani = FuncAnimation(fig, update, frames=num_scene, interval=100, blit=True)\n",
    "\n",
    "# Display the animation in Jupyter Notebook\n",
    "from IPython.display import HTML\n",
    "HTML(ani.to_jshtml(default_mode=\"once\"))"
   ]
  }
 ],
 "metadata": {
  "kernelspec": {
   "display_name": "ultralytics_env",
   "language": "python",
   "name": "python3"
  },
  "language_info": {
   "codemirror_mode": {
    "name": "ipython",
    "version": 3
   },
   "file_extension": ".py",
   "mimetype": "text/x-python",
   "name": "python",
   "nbconvert_exporter": "python",
   "pygments_lexer": "ipython3",
   "version": "3.11.9"
  }
 },
 "nbformat": 4,
 "nbformat_minor": 4
}
