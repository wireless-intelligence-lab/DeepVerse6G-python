{
 "cells": [
  {
   "cell_type": "markdown",
   "metadata": {},
   "source": [
    "# Dataset Parameters"
   ]
  },
  {
   "cell_type": "markdown",
   "metadata": {},
   "source": [
    "The DeepVerse6G dataset provides realistic *simulated sensor data* for 6G research.  Its parametric design offers flexibility in data generation and configuration.  Key features include:\n",
    "\n",
    "*   **Partial Data Loading/Generation:** Users can specify which parts of the dataset to load or generate, reducing memory requirements and processing time.  For example, you can choose specific scenes, time steps, or sensor types.\n",
    "*   **Wireless Configuration:**  Parameters control various aspects of the wireless environment, including the number and arrangement of transmitter and receiver antennas, operating frequency, and bandwidth.\n",
    "*   **FMCW Radar Control:**  Fine-grained control over FMCW radar parameters, such as chirp duration, frequency, and sampling rate, enables customization for specific radar applications.\n",
    "\n",
    "This notebook serves as a guide to the available parameters, explaining how to use them to generate a customized dataset. We will also cover the dataset's file structure and the parameter interface.\n"
   ]
  },
  {
   "cell_type": "markdown",
   "metadata": {},
   "source": [
    "## Parameter File"
   ]
  },
  {
   "cell_type": "markdown",
   "metadata": {},
   "source": [
    "We'll start by looking at the default configuration file `config.m`, provided with the dataset. This file holds all the parameters used to configure and generate the DeepVerse6G dataset:\n"
   ]
  },
  {
   "cell_type": "markdown",
   "metadata": {},
   "source": [
    "```matlab\n",
    "%% General Parameters\n",
    "dv.basestations = [1]; % Basestations to be included\n",
    "\n",
    "dv.dataset_folder = r'D:\\\\DeepVerse\\\\scenarios';\n",
    "dv.scenario = 'Town01-Carla';\n",
    "\n",
    "dv.scenes = [100:101]; % Scenes to be included\n",
    "\n",
    "dv.comm.enable = true;\n",
    "dv.radar.enable = true;\n",
    "\n",
    "dv.camera = true;\n",
    "dv.camera_id = [1:5];\n",
    "\n",
    "dv.lidar = true;\n",
    "dv.position = true;\n",
    "\n",
    "%% Comm\n",
    "dv.comm.bs_antenna.shape = [32, 1];\n",
    "dv.comm.bs_antenna.rotation = [0, 0, -90];\n",
    "dv.comm.bs_antenna.spacing = 0.5;\n",
    "dv.comm.bs_antenna.FoV =;\n",
    "\n",
    "dv.comm.ue_antenna.shape = [1, 1];\n",
    "dv.comm.ue_antenna.rotation = [0, 0, -90];\n",
    "dv.comm.ue_antenna.spacing = 0.5;\n",
    "dv.comm.ue_antenna.FoV =;\n",
    "\n",
    "dv.comm.OFDM.bandwidth = 0.05;\n",
    "dv.comm.OFDM.subcarriers = 512;\n",
    "dv.comm.OFDM.selected_subcarriers = [0, 1];\n",
    "\n",
    "dv.comm.activate_RX_filter = 0;\n",
    "dv.comm.generate_OFDM_channels = 1;\n",
    "dv.comm.num_paths = 25;\n",
    "dv.comm.enable_Doppler = 1;\n",
    "\n",
    "%% Radar\n",
    "dv.radar.tx_antenna.shape = [1, 1];\n",
    "dv.radar.tx_antenna.rotation = [0, 0, -90];\n",
    "dv.radar.tx_antenna.spacing = 0.5;\n",
    "dv.radar.tx_antenna.FoV = [180, 360];\n",
    "\n",
    "dv.radar.rx_antenna.shape = [1, 1];\n",
    "dv.radar.rx_antenna.rotation = [0, 0, -90];\n",
    "dv.radar.rx_antenna.spacing = 0.5;\n",
    "dv.radar.rx_antenna.FoV = [180, 360];\n",
    "\n",
    "dv.radar.FMCW.chirp_slope = 15e12;\n",
    "dv.radar.FMCW.Fs = 4e6;\n",
    "dv.radar.FMCW.n_samples_per_chirp = 512;\n",
    "dv.radar.FMCW.n_chirps = 256;\n",
    "\n",
    "dv.radar.num_paths = 5000;\n",
    "```"
   ]
  },
  {
   "cell_type": "markdown",
   "metadata": {},
   "source": [
    "## Detailed Parameter Descriptions\n",
    "\n",
    "Below, we provide a comprehensive description of each parameter used in the DeepVerse6G dataset configuration.\n"
   ]
  },
  {
   "cell_type": "markdown",
   "metadata": {},
   "source": [
    "| Sensor        | Parameter                               | Example Value | Function/Description                                                                  |\n",
    "|---------------|-------------------------------------------|---------------|----------------------------------------------------------------------------------------|\n",
    "| General       | `dv.basestations`                       | `[1]`         | Basestations to be included                                                             |\n",
    "| General       | `dv.dataset_folder`                     | `'D:\\\\DeepVerse\\\\scenarios'` | Path to the dataset folder                                                              |\n",
    "| General       | `dv.scenario`                             | `'Town01-Carla'` | Name of the scenario                                                                      |\n",
    "| General       | `dv.scenes`                               | `[100:101]`    | Scenes to be included                                                                    |\n",
    "| Communication | `dv.comm.enable`                          | `true`        | Enable communication module                                                              |\n",
    "| Radar         | `dv.radar.enable`                         | `false`       | Enable radar module                                                                      |\n",
    "| Camera        | `dv.camera`                               | `true`        | Enable camera sensor                                                                     |\n",
    "| Camera        | `dv.camera_id`                            | `[1:5]`       | IDs of the cameras                                                                      |\n",
    "| Lidar         | `dv.lidar`                               | `true`        | Enable LiDAR sensor                                                                      |\n",
    "| Position      | `dv.position`                             | `true`        | Enable position data                                                                     |\n",
    "| Communication | `dv.comm.bs_antenna.shape`                |           | Shape of the base station antenna                                                        |\n",
    "| Communication | `dv.comm.bs_antenna.rotation`             |         | Rotation of the base station antenna (degrees)                                           |\n",
    "| Communication | `dv.comm.bs_antenna.spacing`              | `0.5`         | Spacing between antenna elements (meters)                                               |\n",
    "| Communication | `dv.comm.bs_antenna.FoV`                  |       | Field of View of the base station antenna (degrees)                                   |\n",
    "| Communication | `dv.comm.ue_antenna.shape`                |          | Shape of the user equipment antenna                                                       |\n",
    "| Communication | `dv.comm.ue_antenna.rotation`             |       | Rotation of the user equipment antenna (degrees)                                          |\n",
    "| Communication | `dv.comm.ue_antenna.spacing`              | `0.5`         | Spacing between antenna elements (meters)                                               |\n",
    "| Communication | `dv.comm.ue_antenna.FoV`                  |       | Field of View of the user equipment antenna (degrees)                                   |\n",
    "| Communication | `dv.comm.OFDM.bandwidth`                  | `0.05`        | OFDM bandwidth                                                                           |\n",
    "| Communication | `dv.comm.OFDM.subcarriers`                | `512`         | Number of OFDM subcarriers                                                               |\n",
    "| Communication | `dv.comm.OFDM.selected_subcarriers`      |           | Selected subcarriers                                                                      |\n",
    "| Communication | `dv.comm.activate_RX_filter`             | `0`           | Activate receiver filter (0 or 1)                                                        |\n",
    "| Communication | `dv.comm.generate_OFDM_channels`         | `1`           | Generate OFDM channels (0 or 1)                                                        |\n",
    "| Communication | `dv.comm.num_paths`                       | `25`          | Number of multipath components                                                           |\n",
    "| Communication | `dv.comm.enable_Doppler`                  | `1`           | Enable Doppler effect (0 or 1)                                                          |\n",
    "| Radar         | `dv.radar.tx_antenna.shape`               |           | Shape of the radar transmitter antenna                                                   |\n",
    "| Radar         | `dv.radar.tx_antenna.rotation`            | `[0, 0, -90]` | Rotation of the radar transmitter antenna (degrees)                                      |\n",
    "| Radar         | `dv.radar.tx_antenna.spacing`             | `0.5`         | Spacing between antenna elements (meters)                                               |\n",
    "| Radar         | `dv.radar.tx_antenna.FoV`                 |       | Field of View of the radar transmitter antenna (degrees)                               |\n",
    "| Radar         | `dv.radar.rx_antenna.shape`               |          | Shape of the radar receiver antenna                                                    |\n",
    "| Radar         | `dv.radar.rx_antenna.rotation`            | `[0, 0, -90]` | Rotation of the radar receiver antenna (degrees)                                       |\n",
    "| Radar         | `dv.radar.rx_antenna.spacing`             | `0.5`         | Spacing between antenna elements (meters)                                               |\n",
    "| Radar         | `dv.radar.rx_antenna.FoV`                 |      | Field of View of the radar receiver antenna (degrees)                                |\n",
    "| Radar         | `dv.radar.FMCW.chirp_slope`              | `15e12`       | FMCW chirp slope                                                                        |\n",
    "| Radar         | `dv.radar.FMCW.Fs`                       | `4e6`         | FMCW sampling frequency                                                                  |\n",
    "| Radar         | `dv.radar.FMCW.n_samples_per_chirp`      | `512`         | Number of samples per chirp                                                              |\n",
    "| Radar         | `dv.radar.FMCW.n_chirps`                 | `256`         | Number of chirps                                                                       |\n",
    "| Radar         | `dv.radar.num_paths`                      | `5000`        | Number of multipath components                                                           |"
   ]
  },
  {
   "cell_type": "markdown",
   "metadata": {},
   "source": [
    "## Loading the Modified Parameters\n",
    "\n",
    "Once the desired adjustments have been made to the `config.m` file, the updated parameter values can be loaded into the DeepVerse6G environment using the `ParameterManager` class, which loads the configuration as a dictionary. The following code snippet shows how to do this:"
   ]
  },
  {
   "cell_type": "code",
   "execution_count": 33,
   "metadata": {},
   "outputs": [
    {
     "name": "stdout",
     "output_type": "stream",
     "text": [
      "Loaded Parameters:\n",
      "{'basestations': [1],\n",
      " 'camera': True,\n",
      " 'camera_id': [1, 2, 3, 4, 5],\n",
      " 'comm': {'OFDM': {'bandwidth': 0.05,\n",
      "                   'selected_subcarriers': [0, 1],\n",
      "                   'subcarriers': 512},\n",
      "          'activate_RX_filter': 0,\n",
      "          'bs_antenna': {'FoV': [360, 180],\n",
      "                         'rotation': [5, 10, 20],\n",
      "                         'shape': [32, 1],\n",
      "                         'spacing': 0.5},\n",
      "          'enable': True,\n",
      "          'enable_Doppler': 1,\n",
      "          'generate_OFDM_channels': 1,\n",
      "          'num_paths': 25,\n",
      "          'ue_antenna': {'FoV': [360, 180],\n",
      "                         'rotation': [0, 30, 0],\n",
      "                         'shape': [1, 1],\n",
      "                         'spacing': 0.5}},\n",
      " 'dataset_folder': 'D:\\\\\\\\DeepVerse\\\\\\\\scenarios',\n",
      " 'lidar': True,\n",
      " 'position': True,\n",
      " 'radar': {'FMCW': {'Fs': 4000000.0,\n",
      "                    'chirp_slope': 15000000000000.0,\n",
      "                    'n_chirps': 256,\n",
      "                    'n_samples_per_chirp': 512},\n",
      "           'enable': False,\n",
      "           'num_paths': 5000,\n",
      "           'rx_antenna': {'FoV': [360, 180],\n",
      "                          'rotation': [0, 0, -90],\n",
      "                          'shape': [32, 1],\n",
      "                          'spacing': 0.5},\n",
      "           'tx_antenna': {'FoV': [360, 180],\n",
      "                          'rotation': [0, 0, -90],\n",
      "                          'shape': [1, 1],\n",
      "                          'spacing': 0.5}},\n",
      " 'scenario': 'Town01-Carla',\n",
      " 'scenes': [100, 101]}\n"
     ]
    }
   ],
   "source": [
    "import os\n",
    "import sys\n",
    "sys.path.insert(0, '../src')\n",
    "\n",
    "import numpy as np\n",
    "from pprint import pprint\n",
    "\n",
    "from deepverse import ParameterManager\n",
    "# Path to the MATLAB configuration file\n",
    "config_path = os.path.join(\"../params/config.m\")\n",
    "\n",
    "# Initialize ParameterManager and load parameters\n",
    "param_manager = ParameterManager(config_path)\n",
    "\n",
    "# # Print the loaded parameters\n",
    "print(\"Loaded Parameters:\")\n",
    "pprint(param_manager.params)"
   ]
  },
  {
   "cell_type": "markdown",
   "metadata": {},
   "source": [
    "## Code-Based Parameter Adjustments\n",
    "\n",
    "For situations where modifying the `config.m` file is less convenient, you can directly change parameter values within your Python script.  This is particularly useful for automated experiments or when parameters need to be calculated or adjusted during runtime. The following two snippets provide examples for runtime editing. \n",
    "\n",
    "**Note:** *This approach can be particularly useful for running the same code/evaluating the same approach with different parameters.*\n"
   ]
  },
  {
   "cell_type": "code",
   "execution_count": 34,
   "metadata": {},
   "outputs": [
    {
     "name": "stdout",
     "output_type": "stream",
     "text": [
      "Bandwidth is changed to: 0.2 GHz\n"
     ]
    }
   ],
   "source": [
    "# --- Code-Based Parameter Adjustments ---\n",
    "\n",
    "# Example 1: Simple parameter change\n",
    "param_manager.params['comm']['OFDM']['bandwidth'] = 0.2  # Change bandwidth to 200 MHz\n",
    "print(f\"Bandwidth is changed to: {param_manager.params['comm']['OFDM']['bandwidth']} GHz\")"
   ]
  },
  {
   "cell_type": "code",
   "execution_count": 36,
   "metadata": {},
   "outputs": [
    {
     "name": "stdout",
     "output_type": "stream",
     "text": [
      "# of paths in the radar signals is changed to: 1000\n"
     ]
    }
   ],
   "source": [
    "\n",
    "num_paths = 1 # Conditioning on the number of radar paths to be included in generating the dataset, i.e., small (0), medium (1) and large (2) number of paths.\n",
    "# Example 2: Conditional parameter change\n",
    "if num_paths == 0 :\n",
    "    param_manager.params['radar']['num_paths'] = 100\n",
    "elif num_paths == 1 :\n",
    "    param_manager.params['radar']['num_paths'] = 1000\n",
    "elif num_paths == 2 :\n",
    "    param_manager.params['radar']['num_paths'] = 5000\n",
    "else:\n",
    "    raise ValueError\n",
    "\n",
    "print(f\"# of paths in the radar signals is changed to: {param_manager.params['radar']['num_paths']}\")\n"
   ]
  },
  {
   "cell_type": "markdown",
   "metadata": {},
   "source": [
    "### Save Adjusted Parameters"
   ]
  },
  {
   "cell_type": "markdown",
   "metadata": {},
   "source": [
    "After adjusting the parameters, we may want to save it for later use or reference purposes. For this purpose, we can use the following code:"
   ]
  },
  {
   "cell_type": "code",
   "execution_count": 42,
   "metadata": {},
   "outputs": [
    {
     "name": "stdout",
     "output_type": "stream",
     "text": [
      "Parameters saved to ../params/configv2.m (YAML format).\n"
     ]
    }
   ],
   "source": [
    "modified_config_path = os.path.join(\"../params/configv2.m\")\n",
    "param_manager.save_params(modified_config_path)\n",
    "\n",
    "print(f\"Parameters saved to {modified_config_path}.\")"
   ]
  },
  {
   "cell_type": "markdown",
   "metadata": {},
   "source": [
    "## Using YAML for Parameter Configuration\n",
    "\n",
    "DeepVerse6G offers flexibility in how you define your parameters.  You can use either `.m` (MATLAB) or `.yaml` files. The `ParameterManager` handles both formats seamlessly.\n",
    "\n",
    "**Important Note:**  The MATLAB version of DeepVerse6G requires the parameter file to be in the `.m` format.  If you choose to define your parameters in YAML, you can use the provided tools to convert them to `.m` before running the MATLAB components."
   ]
  },
  {
   "cell_type": "markdown",
   "metadata": {},
   "source": [
    "In the following code snippet, we save the loaded parameters in `.yaml` format."
   ]
  },
  {
   "cell_type": "code",
   "execution_count": 39,
   "metadata": {},
   "outputs": [
    {
     "name": "stdout",
     "output_type": "stream",
     "text": [
      "Parameters saved to ../params/params.yaml (YAML format).\n"
     ]
    }
   ],
   "source": [
    "# Save as YAML\n",
    "yaml_config_path = '../params/params.yaml'\n",
    "param_manager.save_params(yaml_config_path)  # File type is automatically inferred\n",
    "\n",
    "print(f\"Parameters saved to {yaml_config_path} (YAML format).\")"
   ]
  },
  {
   "cell_type": "markdown",
   "metadata": {},
   "source": [
    "The saved file content is shown below:"
   ]
  },
  {
   "cell_type": "markdown",
   "metadata": {},
   "source": [
    "```yaml\n",
    "basestations:\n",
    "- 1\n",
    "camera: true\n",
    "camera_id:\n",
    "- 1\n",
    "- 2\n",
    "- 3\n",
    "- 4\n",
    "- 5\n",
    "comm:\n",
    "  OFDM:\n",
    "    bandwidth: 0.2\n",
    "    selected_subcarriers:\n",
    "    - 0\n",
    "    - 1\n",
    "    subcarriers: 512\n",
    "  activate_RX_filter: 0\n",
    "  bs_antenna:\n",
    "    FoV:\n",
    "    - 360\n",
    "    - 180\n",
    "    rotation:\n",
    "    - 5\n",
    "    - 10\n",
    "    - 20\n",
    "    shape:\n",
    "    - 32\n",
    "    - 1\n",
    "    spacing: 0.5\n",
    "  enable: true\n",
    "  enable_Doppler: 1\n",
    "  generate_OFDM_channels: 1\n",
    "  num_paths: 25\n",
    "  ue_antenna:\n",
    "    FoV:\n",
    "    - 360\n",
    "    - 180\n",
    "    rotation:\n",
    "    - 0\n",
    "    - 30\n",
    "    - 0\n",
    "    shape:\n",
    "    - 1\n",
    "    - 1\n",
    "    spacing: 0.5\n",
    "dataset_folder: D:\\\\DeepVerse\\\\scenarios\n",
    "lidar: true\n",
    "position: true\n",
    "radar:\n",
    "  FMCW:\n",
    "    Fs: 4000000.0\n",
    "    chirp_slope: 15000000000000.0\n",
    "    n_chirps: 256\n",
    "    n_samples_per_chirp: 512\n",
    "  enable: false\n",
    "  num_paths: 1000\n",
    "  rx_antenna:\n",
    "    FoV:\n",
    "    - 360\n",
    "    - 180\n",
    "    rotation:\n",
    "    - 0\n",
    "    - 0\n",
    "    - -90\n",
    "    shape:\n",
    "    - 32\n",
    "    - 1\n",
    "    spacing: 0.5\n",
    "  tx_antenna:\n",
    "    FoV:\n",
    "    - 360\n",
    "    - 180\n",
    "    rotation:\n",
    "    - 0\n",
    "    - 0\n",
    "    - -90\n",
    "    shape:\n",
    "    - 1\n",
    "    - 1\n",
    "    spacing: 0.5\n",
    "scenario: Town01-Carla\n",
    "scenes:\n",
    "- 100\n",
    "- 101\n",
    "```\n"
   ]
  }
 ],
 "metadata": {
  "kernelspec": {
   "display_name": "gui-env",
   "language": "python",
   "name": "python3"
  },
  "language_info": {
   "codemirror_mode": {
    "name": "ipython",
    "version": 3
   },
   "file_extension": ".py",
   "mimetype": "text/x-python",
   "name": "python",
   "nbconvert_exporter": "python",
   "pygments_lexer": "ipython3",
   "version": "3.10.0"
  }
 },
 "nbformat": 4,
 "nbformat_minor": 2
}
