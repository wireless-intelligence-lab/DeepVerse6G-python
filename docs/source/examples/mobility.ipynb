{
 "cells": [
  {
   "cell_type": "markdown",
   "metadata": {},
   "source": [
    "# Mobility Data\n",
    "\n",
    "In this notebook, we will explore the mobility data. Specifically, there are moving objects (e.g., vehicles and humans) in each DeepVerse scenario. These are attached with a user antenna, and relevant information may be useful in various tasks, such as speed, direction etc. The data of these moving objects is available in the dataset, and we will go into the details next."
   ]
  },
  {
   "cell_type": "markdown",
   "metadata": {},
   "source": [
    "We first import the required modules of the library and adjust the parameters."
   ]
  },
  {
   "cell_type": "code",
   "execution_count": 2,
   "metadata": {},
   "outputs": [
    {
     "name": "stdout",
     "output_type": "stream",
     "text": [
      "Loaded Parameters:\n",
      "{'basestations': [1],\n",
      " 'camera': True,\n",
      " 'camera_id': [1, 2, 3, 4, 5],\n",
      " 'comm': {'OFDM': {'bandwidth': 0.05,\n",
      "                   'selected_subcarriers': [0, 1],\n",
      "                   'subcarriers': 512},\n",
      "          'activate_RX_filter': 0,\n",
      "          'bs_antenna': {'FoV': [360, 180],\n",
      "                         'rotation': [5, 10, 20],\n",
      "                         'shape': [32, 1],\n",
      "                         'spacing': 0.5},\n",
      "          'enable': True,\n",
      "          'enable_Doppler': 1,\n",
      "          'generate_OFDM_channels': 1,\n",
      "          'num_paths': 25,\n",
      "          'ue_antenna': {'FoV': [360, 180],\n",
      "                         'rotation': [0, 30, 0],\n",
      "                         'shape': [1, 1],\n",
      "                         'spacing': 0.5}},\n",
      " 'dataset_folder': 'D:\\\\DeepVerse\\\\scenarios',\n",
      " 'lidar': True,\n",
      " 'position': True,\n",
      " 'radar': {'FMCW': {'Fs': 4000000.0,\n",
      "                    'chirp_slope': 15000000000000.0,\n",
      "                    'n_chirps': 256,\n",
      "                    'n_samples_per_chirp': 512},\n",
      "           'enable': False,\n",
      "           'num_paths': 5000,\n",
      "           'rx_antenna': {'FoV': [360, 180],\n",
      "                          'rotation': [0, 0, -90],\n",
      "                          'shape': [32, 1],\n",
      "                          'spacing': 0.5},\n",
      "           'tx_antenna': {'FoV': [360, 180],\n",
      "                          'rotation': [0, 0, -90],\n",
      "                          'shape': [1, 1],\n",
      "                          'spacing': 0.5}},\n",
      " 'scenario': 'Town01-Carla',\n",
      " 'scenes': [100, 101]}\n"
     ]
    }
   ],
   "source": [
    "%load_ext autoreload\n",
    "%autoreload 2\n",
    "\n",
    "import os\n",
    "import sys\n",
    "sys.path.insert(0, '../src')\n",
    "\n",
    "import numpy as np\n",
    "\n",
    "from deepverse import ParameterManager\n",
    "from deepverse import Dataset\n",
    "\n",
    "from pprint import pprint\n",
    "\n",
    "# Path to the MATLAB configuration file\n",
    "config_path = os.path.join(\"../params/config.m\")\n",
    "\n",
    "# Initialize ParameterManager and load parameters\n",
    "param_manager = ParameterManager(config_path)\n",
    "\n",
    "param_manager.params['dataset_folder'] = r'D:\\DeepVerse\\scenarios'\n",
    "param_manager.params['scenario'] = 'Town01-Carla'\n",
    "\n",
    "# # Print the parameters\n",
    "print(\"Loaded Parameters:\")\n",
    "pprint(param_manager.params)"
   ]
  },
  {
   "cell_type": "markdown",
   "metadata": {},
   "source": [
    "There is only a single relevant parameter: `position` to enable the moving object information. "
   ]
  },
  {
   "cell_type": "markdown",
   "metadata": {},
   "source": [
    "Let us now generate the dataset:"
   ]
  },
  {
   "cell_type": "code",
   "execution_count": 3,
   "metadata": {},
   "outputs": [
    {
     "name": "stdout",
     "output_type": "stream",
     "text": [
      "Jupyter environment detected. Enabling Open3D WebVisualizer.\n",
      "[Open3D INFO] WebRTC GUI backend enabled.\n",
      "[Open3D INFO] WebRTCWindowSystem: HTTP handshake server disabled.\n",
      "\n",
      "Scene 1/2\n",
      "\n",
      "Basestation 1\n"
     ]
    },
    {
     "name": "stderr",
     "output_type": "stream",
     "text": [
      "Reading ray-tracing: 100%|██████████| 1/1 [00:00<?, ?it/s]\n",
      "Generating channels: 100%|██████████| 1/1 [00:04<00:00,  4.82s/it]\n"
     ]
    },
    {
     "name": "stdout",
     "output_type": "stream",
     "text": [
      "\n",
      "Scene 2/2\n",
      "\n",
      "Basestation 1\n"
     ]
    },
    {
     "name": "stderr",
     "output_type": "stream",
     "text": [
      "Reading ray-tracing: 100%|██████████| 1/1 [00:00<?, ?it/s]\n",
      "Generating channels: 100%|██████████| 1/1 [00:04<00:00,  5.00s/it]\n"
     ]
    },
    {
     "name": "stdout",
     "output_type": "stream",
     "text": [
      "\n",
      "Scene 1/2\n",
      "\n",
      "Basestation 1\n",
      "\n",
      "UE-BS Channels\n"
     ]
    },
    {
     "name": "stderr",
     "output_type": "stream",
     "text": [
      "Reading ray-tracing: 100%|██████████| 2/2 [00:00<?, ?it/s]\n",
      "Generating channels: 100%|██████████| 2/2 [00:00<00:00, 999.71it/s]\n"
     ]
    },
    {
     "name": "stdout",
     "output_type": "stream",
     "text": [
      "\n",
      "BS-BS Channels\n"
     ]
    },
    {
     "name": "stderr",
     "output_type": "stream",
     "text": [
      "Reading ray-tracing: 100%|██████████| 1/1 [00:00<?, ?it/s]\n",
      "Generating channels: 100%|██████████| 1/1 [00:00<00:00, 249.97it/s]\n"
     ]
    },
    {
     "name": "stdout",
     "output_type": "stream",
     "text": [
      "\n",
      "Scene 2/2\n",
      "\n",
      "Basestation 1\n",
      "\n",
      "UE-BS Channels\n"
     ]
    },
    {
     "name": "stderr",
     "output_type": "stream",
     "text": [
      "Reading ray-tracing: 100%|██████████| 2/2 [00:00<00:00, 1997.76it/s]\n",
      "Generating channels: 100%|██████████| 2/2 [00:00<00:00, 1000.31it/s]\n"
     ]
    },
    {
     "name": "stdout",
     "output_type": "stream",
     "text": [
      "\n",
      "BS-BS Channels\n"
     ]
    },
    {
     "name": "stderr",
     "output_type": "stream",
     "text": [
      "Reading ray-tracing: 100%|██████████| 1/1 [00:00<?, ?it/s]\n",
      "Generating channels: 100%|██████████| 1/1 [00:00<00:00, 249.91it/s]\n"
     ]
    }
   ],
   "source": [
    "dataset = Dataset(param_manager)"
   ]
  },
  {
   "cell_type": "markdown",
   "metadata": {},
   "source": [
    "### Accessing Mobility Data"
   ]
  },
  {
   "cell_type": "markdown",
   "metadata": {},
   "source": [
    "Let us now explore the available channel information. Let us list all mobility information."
   ]
  },
  {
   "cell_type": "code",
   "execution_count": 10,
   "metadata": {},
   "outputs": [
    {
     "name": "stdout",
     "output_type": "stream",
     "text": [
      "{0: MovingObject(id=0, num_time_samples=417, time_interval=40,456),\n",
      " 1: MovingObject(id=1, num_time_samples=312, time_interval=100,411),\n",
      " 2: MovingObject(id=2, num_time_samples=314, time_interval=250,563),\n",
      " 3: MovingObject(id=3, num_time_samples=315, time_interval=330,644),\n",
      " 4: MovingObject(id=4, num_time_samples=315, time_interval=354,668),\n",
      " 5: MovingObject(id=5, num_time_samples=317, time_interval=420,736),\n",
      " 6: MovingObject(id=6, num_time_samples=312, time_interval=450,761),\n",
      " 7: MovingObject(id=7, num_time_samples=423, time_interval=482,904),\n",
      " 8: MovingObject(id=8, num_time_samples=415, time_interval=500,914),\n",
      " 9: MovingObject(id=9, num_time_samples=315, time_interval=519,833),\n",
      " 10: MovingObject(id=10, num_time_samples=334, time_interval=530,863),\n",
      " 11: MovingObject(id=11, num_time_samples=311, time_interval=538,848),\n",
      " 12: MovingObject(id=12, num_time_samples=320, time_interval=570,889),\n",
      " 13: MovingObject(id=13, num_time_samples=331, time_interval=570,900),\n",
      " 14: MovingObject(id=14, num_time_samples=323, time_interval=600,922),\n",
      " 15: MovingObject(id=15, num_time_samples=322, time_interval=610,931),\n",
      " 16: MovingObject(id=16, num_time_samples=419, time_interval=632,1050),\n",
      " 17: MovingObject(id=17, num_time_samples=420, time_interval=690,1109),\n",
      " 18: MovingObject(id=18, num_time_samples=419, time_interval=692,1110),\n",
      " 19: MovingObject(id=19, num_time_samples=315, time_interval=729,1043),\n",
      " 20: MovingObject(id=20, num_time_samples=422, time_interval=770,1191),\n",
      " 21: MovingObject(id=21, num_time_samples=315, time_interval=807,1121),\n",
      " 22: MovingObject(id=22, num_time_samples=415, time_interval=830,1244),\n",
      " 23: MovingObject(id=23, num_time_samples=322, time_interval=832,1153),\n",
      " 24: MovingObject(id=24, num_time_samples=319, time_interval=890,1208),\n",
      " 25: MovingObject(id=25, num_time_samples=314, time_interval=890,1203),\n",
      " 26: MovingObject(id=26, num_time_samples=414, time_interval=990,1403),\n",
      " 27: MovingObject(id=27, num_time_samples=313, time_interval=1070,1382),\n",
      " 28: MovingObject(id=28, num_time_samples=316, time_interval=1120,1435),\n",
      " 29: MovingObject(id=29, num_time_samples=418, time_interval=1170,1587),\n",
      " 30: MovingObject(id=30, num_time_samples=312, time_interval=1260,1571),\n",
      " 31: MovingObject(id=31, num_time_samples=420, time_interval=1270,1689),\n",
      " 32: MovingObject(id=32, num_time_samples=313, time_interval=1340,1652),\n",
      " 33: MovingObject(id=33, num_time_samples=320, time_interval=1370,1689),\n",
      " 34: MovingObject(id=34, num_time_samples=313, time_interval=1390,1702),\n",
      " 35: MovingObject(id=35, num_time_samples=420, time_interval=1430,1849),\n",
      " 36: MovingObject(id=36, num_time_samples=313, time_interval=1470,1782),\n",
      " 37: MovingObject(id=37, num_time_samples=419, time_interval=1550,1968),\n",
      " 38: MovingObject(id=38, num_time_samples=316, time_interval=1560,1875),\n",
      " 39: MovingObject(id=39, num_time_samples=316, time_interval=1588,1903),\n",
      " 40: MovingObject(id=40, num_time_samples=390, time_interval=1610,1999),\n",
      " 41: MovingObject(id=41, num_time_samples=317, time_interval=1630,1946),\n",
      " 42: MovingObject(id=42, num_time_samples=316, time_interval=1649,1964),\n",
      " 43: MovingObject(id=43, num_time_samples=315, time_interval=1680,1994),\n",
      " 44: MovingObject(id=44, num_time_samples=220, time_interval=1780,1999),\n",
      " 45: MovingObject(id=45, num_time_samples=200, time_interval=1800,1999),\n",
      " 46: MovingObject(id=46, num_time_samples=160, time_interval=1840,1999),\n",
      " 47: MovingObject(id=47, num_time_samples=90, time_interval=1910,1999)}\n"
     ]
    }
   ],
   "source": [
    "mobility = dataset.get_sample('mobility')\n",
    "pprint(mobility)"
   ]
  },
  {
   "cell_type": "markdown",
   "metadata": {},
   "source": [
    "As it can be seen from the output, there are $48$ vehicles in this scenario, each spanning a different range of total $2000$ samples. For example, the first vehicle enters the scene at sample $40$, and exits at sample $456$. Its channel information will be available for $417$ total samples, i.e., $[40, 456]$. Now, let's focus on this vehicle."
   ]
  },
  {
   "cell_type": "code",
   "execution_count": 14,
   "metadata": {},
   "outputs": [
    {
     "name": "stdout",
     "output_type": "stream",
     "text": [
      "dict_keys(['time', 'location', 'angle', 'speed', 'acceleration', 'bounding_box', 'tx_height', 'slope'])\n"
     ]
    }
   ],
   "source": [
    "mobility = dataset.get_sample('mobility', ue_idx=0)\n",
    "mobility_information = mobility.get_all_samples()\n",
    "pprint(mobility_information.keys())"
   ]
  },
  {
   "cell_type": "markdown",
   "metadata": {},
   "source": [
    "The function `get_all_samples()` return a dictionary of various properties in the data as a dictionary. These properties in this example are detailed as follows:\n",
    "- *time*: Time index of the sample\n",
    "- *location*: 3D cartesian location vector of the vehicle\n",
    "- *angle*: 1D horizontal rotation angle in the cartesian space\n",
    "- *speed*: Speed of the vehicle in m/s.\n",
    "- *acceleration*: Acceleration of the vehicle in m^2/s.\n",
    "- *bounding_box*: Bounding box corners.\n",
    "- *tx_height*: Transmitter antenna height at the x-y center provided in the location. The antennas are usually placed at the top of the objects, and they are at a higher height.\n",
    "- *slope*: Slope of the vehicle. In the case the scenario contains uneven surface, such as a bridge, this information will provide the slope of the vehicle."
   ]
  },
  {
   "cell_type": "markdown",
   "metadata": {},
   "source": [
    "Now, let's see the location information."
   ]
  },
  {
   "cell_type": "code",
   "execution_count": 24,
   "metadata": {},
   "outputs": [
    {
     "name": "stdout",
     "output_type": "stream",
     "text": [
      "(417, 3)\n"
     ]
    }
   ],
   "source": [
    "location = mobility_information['location']\n",
    "location = np.array(location)\n",
    "print(location.shape)"
   ]
  },
  {
   "cell_type": "markdown",
   "metadata": {},
   "source": [
    "We can also directly access the data at a specific time index with `get_sample` function with"
   ]
  },
  {
   "cell_type": "code",
   "execution_count": 33,
   "metadata": {},
   "outputs": [
    {
     "name": "stdout",
     "output_type": "stream",
     "text": [
      "{'acceleration': 0.0,\n",
      " 'angle': 180.0,\n",
      " 'bounding_box': array([[3.0585e+02, 4.0700e+00, 2.0000e-01],\n",
      "       [3.1995e+02, 7.1700e+00, 3.5000e+00]]),\n",
      " 'location': [312.9, 5.62, 0.25],\n",
      " 'slope': 0.0,\n",
      " 'speed': 0.0,\n",
      " 'time': 40,\n",
      " 'tx_height': 3.45}\n"
     ]
    }
   ],
   "source": [
    "mobility = dataset.get_sample('mobility', ue_idx=0, index=40)\n",
    "pprint(mobility)"
   ]
  },
  {
   "cell_type": "markdown",
   "metadata": {},
   "source": [
    "It is a matrix of size (time samples x 3 -x,y,z-). We can plot this data to see the trajectory of the vehicle as follows:"
   ]
  },
  {
   "cell_type": "code",
   "execution_count": 27,
   "metadata": {},
   "outputs": [
    {
     "data": {
      "image/png": "[encoded data removed]",
      "text/plain": [
       "<Figure size 432x288 with 1 Axes>"
      ]
     },
     "metadata": {
      "needs_background": "light"
     },
     "output_type": "display_data"
    }
   ],
   "source": [
    "import matplotlib.pyplot as plt\n",
    "plt.figure()\n",
    "plt.plot(location[:, 0], location[:, 1], 'x')\n",
    "plt.show()"
   ]
  }
 ],
 "metadata": {
  "kernelspec": {
   "display_name": "gui-env",
   "language": "python",
   "name": "python3"
  },
  "language_info": {
   "codemirror_mode": {
    "name": "ipython",
    "version": 3
   },
   "file_extension": ".py",
   "mimetype": "text/x-python",
   "name": "python",
   "nbconvert_exporter": "python",
   "pygments_lexer": "ipython3",
   "version": "3.10.0"
  }
 },
 "nbformat": 4,
 "nbformat_minor": 2
}
